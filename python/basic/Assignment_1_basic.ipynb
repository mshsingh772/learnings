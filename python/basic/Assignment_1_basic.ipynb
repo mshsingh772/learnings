{
  "nbformat": 4,
  "nbformat_minor": 0,
  "metadata": {
    "colab": {
      "name": "Assignment_1_basic.ipynb",
      "provenance": []
    },
    "kernelspec": {
      "name": "python3",
      "display_name": "Python 3"
    },
    "language_info": {
      "name": "python"
    }
  },
  "cells": [
    {
      "cell_type": "markdown",
      "metadata": {
        "id": "drnOE8LkZkI1"
      },
      "source": [
        "Write a Python program to print \"Hello Python\"?"
      ]
    },
    {
      "cell_type": "code",
      "metadata": {
        "colab": {
          "base_uri": "https://localhost:8080/"
        },
        "id": "E1SGncQuVk8h",
        "outputId": "31add5f4-88a5-4163-953f-1b4c26d20a23"
      },
      "source": [
        "print(\"Hello Python\")"
      ],
      "execution_count": 1,
      "outputs": [
        {
          "output_type": "stream",
          "text": [
            "Hello Python\n"
          ],
          "name": "stdout"
        }
      ]
    },
    {
      "cell_type": "markdown",
      "metadata": {
        "id": "3MQpPQitZrKE"
      },
      "source": [
        "Write a Python program to do arithmetical operations addition and division.?"
      ]
    },
    {
      "cell_type": "code",
      "metadata": {
        "id": "zxnppLx8V10t"
      },
      "source": [
        "def operations(operation,operand1,operand2):\n",
        "  operation_dict = {\n",
        "      \"add\" : operand1+operand2,\n",
        "      \"subtract\": operand1-operand2,\n",
        "      \"multiply\": operand1*operand2,\n",
        "      \"divide\" : operand1/operand2\n",
        "  }\n",
        "  return operation_dict.get(operation,\"Invalid Operation\")\n",
        "  "
      ],
      "execution_count": 2,
      "outputs": []
    },
    {
      "cell_type": "code",
      "metadata": {
        "colab": {
          "base_uri": "https://localhost:8080/"
        },
        "id": "16MAz4_4W9Tg",
        "outputId": "4699f765-5da8-4ce7-e52b-047851c64ba0"
      },
      "source": [
        "print(\"Addition operation result {}\\n Subtraction operation result {}\\n Multiplication operation result {}\\n Division operation result {}\".format(operations(\"add\",4,3),operations(\"subtract\",4,3),operations(\"multiply\",4,3),operations(\"divide\",4,3)))"
      ],
      "execution_count": 3,
      "outputs": [
        {
          "output_type": "stream",
          "text": [
            "Addition operation result 7\n",
            " Subtraction operation result 1\n",
            " Multiplication operation result 12\n",
            " Division operation result 1.3333333333333333\n"
          ],
          "name": "stdout"
        }
      ]
    },
    {
      "cell_type": "markdown",
      "metadata": {
        "id": "yynRwIV2ZumE"
      },
      "source": [
        "Write a Python program to find the area of a triangle? NOTE: Anwered using heron's formula"
      ]
    },
    {
      "cell_type": "code",
      "metadata": {
        "id": "icmb6Cxra-gc"
      },
      "source": [
        "import math"
      ],
      "execution_count": 4,
      "outputs": []
    },
    {
      "cell_type": "code",
      "metadata": {
        "id": "W7_ktYpfYXgt"
      },
      "source": [
        "def triangle_area(side1,side2,side3):\n",
        "  perimeter = (side1+side2+side3)/2\n",
        "  area = math.sqrt(perimeter*(perimeter-side1)*(perimeter-side2)*(perimeter-side3))\n",
        "  return area"
      ],
      "execution_count": 5,
      "outputs": []
    },
    {
      "cell_type": "code",
      "metadata": {
        "colab": {
          "base_uri": "https://localhost:8080/"
        },
        "id": "AzMcTXm_a8o2",
        "outputId": "f701190f-dc08-4292-9ba7-a0d7681e5896"
      },
      "source": [
        "side1, side2, side3 = map(int,input().split(' '))"
      ],
      "execution_count": 6,
      "outputs": [
        {
          "output_type": "stream",
          "text": [
            "2 3 4\n"
          ],
          "name": "stdout"
        }
      ]
    },
    {
      "cell_type": "code",
      "metadata": {
        "colab": {
          "base_uri": "https://localhost:8080/"
        },
        "id": "pBmvFjrjbQfW",
        "outputId": "97e6f4bc-65d2-461b-9675-1450ba5eb565"
      },
      "source": [
        "triangle_area(side1,side2,side3)"
      ],
      "execution_count": 7,
      "outputs": [
        {
          "output_type": "execute_result",
          "data": {
            "text/plain": [
              "2.9047375096555625"
            ]
          },
          "metadata": {
            "tags": []
          },
          "execution_count": 7
        }
      ]
    },
    {
      "cell_type": "markdown",
      "metadata": {
        "id": "iznuEHhPc2AE"
      },
      "source": [
        "Write a Python program to swap two variables?"
      ]
    },
    {
      "cell_type": "code",
      "metadata": {
        "colab": {
          "base_uri": "https://localhost:8080/"
        },
        "id": "ILwfwGOvbmZ0",
        "outputId": "342d646c-ca4d-49ba-f69d-09bdba3a084c"
      },
      "source": [
        "a,b = map(int,input().split(' '))"
      ],
      "execution_count": 8,
      "outputs": [
        {
          "output_type": "stream",
          "text": [
            "2 3\n"
          ],
          "name": "stdout"
        }
      ]
    },
    {
      "cell_type": "code",
      "metadata": {
        "colab": {
          "base_uri": "https://localhost:8080/"
        },
        "id": "aWfTNv1jdBxU",
        "outputId": "60cec723-dce8-4977-aa19-ba1532a875d2"
      },
      "source": [
        "print(\"Before swap a:{} b:{}\".format(a,b))\n",
        "b , a = a, b\n",
        "print(\"After swap a:{} b:{}\".format(a,b))"
      ],
      "execution_count": 9,
      "outputs": [
        {
          "output_type": "stream",
          "text": [
            "Before swap a:2 b:3\n",
            "After swap a:3 b:2\n"
          ],
          "name": "stdout"
        }
      ]
    },
    {
      "cell_type": "markdown",
      "metadata": {
        "id": "nABdFtjAdfmY"
      },
      "source": [
        "Write a Python program to generate a random number?"
      ]
    },
    {
      "cell_type": "code",
      "metadata": {
        "colab": {
          "base_uri": "https://localhost:8080/"
        },
        "id": "LyTmw3yAdbGX",
        "outputId": "eb45843e-97ae-417d-f604-306546f2bb60"
      },
      "source": [
        "import random\n",
        "print(random.random())\n",
        "n = random.randint(0,99) # to create random int within specified range\n",
        "print(n)"
      ],
      "execution_count": 11,
      "outputs": [
        {
          "output_type": "stream",
          "text": [
            "0.6081069076654109\n",
            "6\n"
          ],
          "name": "stdout"
        }
      ]
    },
    {
      "cell_type": "code",
      "metadata": {
        "id": "SkFH93Kad7uc"
      },
      "source": [
        ""
      ],
      "execution_count": null,
      "outputs": []
    }
  ]
}